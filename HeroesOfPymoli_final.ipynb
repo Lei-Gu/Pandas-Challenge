{
 "cells": [
  {
   "cell_type": "markdown",
   "metadata": {},
   "source": [
    "### Note\n",
    "* Instructions have been included for each segment. You do not have to follow them exactly, but they are included to help you think through the steps."
   ]
  },
  {
   "cell_type": "code",
   "execution_count": null,
   "metadata": {},
   "outputs": [],
   "source": [
    "# Dependencies and Setup\n",
    "import pandas as pd\n",
    "\n",
    "# File to Load (Remember to Change These)\n",
    "file_to_load = \"Resources/purchase_data.csv\"\n",
    "\n",
    "# Read Purchasing File and store into Pandas data frame\n",
    "purchase_data = pd.read_csv(file_to_load)"
   ]
  },
  {
   "cell_type": "markdown",
   "metadata": {},
   "source": [
    "## Player Count"
   ]
  },
  {
   "cell_type": "markdown",
   "metadata": {},
   "source": [
    "* Display the total number of players\n"
   ]
  },
  {
   "cell_type": "code",
   "execution_count": null,
   "metadata": {},
   "outputs": [],
   "source": [
    "purchase_data.head()"
   ]
  },
  {
   "cell_type": "code",
   "execution_count": null,
   "metadata": {},
   "outputs": [],
   "source": [
    "players = purchase_data[\"SN\"].unique()\n",
    "total_players = len(players)\n",
    "total_players"
   ]
  },
  {
   "cell_type": "code",
   "execution_count": null,
   "metadata": {},
   "outputs": [],
   "source": [
    "number_of_unique_items = purchase_data[\"Item ID\"].nunique()\n",
    "number_of_unique_items"
   ]
  },
  {
   "cell_type": "code",
   "execution_count": null,
   "metadata": {},
   "outputs": [],
   "source": [
    "average_price = purchase_data[\"Price\"].mean()\n",
    "average_price"
   ]
  },
  {
   "cell_type": "code",
   "execution_count": null,
   "metadata": {},
   "outputs": [],
   "source": [
    "number_of_purchases = purchase_data[\"Purchase ID\"].count()\n",
    "number_of_purchases"
   ]
  },
  {
   "cell_type": "code",
   "execution_count": null,
   "metadata": {},
   "outputs": [],
   "source": [
    "total_revenue = purchase_data[\"Price\"].sum()\n",
    "total_revenue\n"
   ]
  },
  {
   "cell_type": "markdown",
   "metadata": {},
   "source": [
    "## Purchasing Analysis (Total)"
   ]
  },
  {
   "cell_type": "markdown",
   "metadata": {},
   "source": [
    "* Run basic calculations to obtain number of unique items, average price, etc.\n",
    "\n",
    "\n",
    "* Create a summary data frame to hold the results\n",
    "\n",
    "\n",
    "* Optional: give the displayed data cleaner formatting\n",
    "\n",
    "\n",
    "* Display the summary data frame\n"
   ]
  },
  {
   "cell_type": "code",
   "execution_count": null,
   "metadata": {
    "scrolled": true
   },
   "outputs": [],
   "source": [
    "summary = pd.DataFrame({\n",
    "    \"Number of Unique Items\": [number_of_unique_items],\n",
    "    \"Average Price\": [average_price],\n",
    "    \"Number of Purchases\": [number_of_purchases],\n",
    "    \"Total Revenue\": [total_revenue]})\n",
    "summary\n"
   ]
  },
  {
   "cell_type": "code",
   "execution_count": null,
   "metadata": {},
   "outputs": [],
   "source": [
    "summary.style.format({\n",
    "    'Total Revenue': '${:,}'.format,\n",
    "    'Average Price': '${:,.2f}'.format,\n",
    "})"
   ]
  },
  {
   "cell_type": "markdown",
   "metadata": {},
   "source": [
    "## Gender Demographics"
   ]
  },
  {
   "cell_type": "markdown",
   "metadata": {},
   "source": [
    "* Percentage and Count of Male Players\n",
    "\n",
    "\n",
    "* Percentage and Count of Female Players\n",
    "\n",
    "\n",
    "* Percentage and Count of Other / Non-Disclosed\n",
    "\n",
    "\n"
   ]
  },
  {
   "cell_type": "code",
   "execution_count": null,
   "metadata": {},
   "outputs": [],
   "source": [
    "gender_data = purchase_data.copy()\n",
    "Gender = gender_data.groupby([\"SN\",\"Gender\"]).size()\n",
    "grouped_gender = Gender.groupby([\"Gender\"]).size()\n",
    "grouped_gender"
   ]
  },
  {
   "cell_type": "code",
   "execution_count": null,
   "metadata": {},
   "outputs": [],
   "source": [
    "total_count_male = grouped_gender[\"Male\"]\n",
    "percentage_of_male = total_count_male/total_players\n",
    "total_count_female = grouped_gender[\"Female\"]\n",
    "percentage_of_female = total_count_female/total_players\n",
    "total_count_non = grouped_gender[\"Other / Non-Disclosed\"]\n",
    "percentage_of_non = total_count_non/total_players"
   ]
  },
  {
   "cell_type": "code",
   "execution_count": null,
   "metadata": {},
   "outputs": [],
   "source": [
    "gender_demographics = pd.DataFrame( { \"Gender\" : [\"Male\", \"Female\", \"Other / Non-Disclosed\"],\n",
    "                                      \"Total Count\": [ total_count_male, total_count_female, total_count_non],\n",
    "                                      \"Percentage of Players\" : [percentage_of_male,percentage_of_female,percentage_of_non]\n",
    "})\n",
    "gender_demographics"
   ]
  },
  {
   "cell_type": "code",
   "execution_count": null,
   "metadata": {},
   "outputs": [],
   "source": [
    "gender_demographics.style.format({\n",
    "    \"Percentage of Players\": \"{:.2%}\".format\n",
    "})\n",
    "gender_demographics"
   ]
  },
  {
   "cell_type": "markdown",
   "metadata": {},
   "source": [
    "\n",
    "## Purchasing Analysis (Gender)"
   ]
  },
  {
   "cell_type": "markdown",
   "metadata": {},
   "source": [
    "* Run basic calculations to obtain purchase count, avg. purchase price, avg. purchase total per person etc. by gender\n",
    "\n",
    "\n",
    "\n",
    "\n",
    "* Create a summary data frame to hold the results\n",
    "\n",
    "\n",
    "* Optional: give the displayed data cleaner formatting\n",
    "\n",
    "\n",
    "* Display the summary data frame"
   ]
  },
  {
   "cell_type": "code",
   "execution_count": null,
   "metadata": {},
   "outputs": [],
   "source": [
    "grouped_gender = purchase_data[\"Gender\"].value_counts()\n",
    "grouped_gender"
   ]
  },
  {
   "cell_type": "code",
   "execution_count": null,
   "metadata": {},
   "outputs": [],
   "source": [
    "male_data = purchase_data.loc[purchase_data[\"Gender\"] == \"Male\", :]\n",
    "female_data = purchase_data.loc[purchase_data[\"Gender\"] == \"Female\", :]\n",
    "non_data = purchase_data.loc[purchase_data[\"Gender\"] == \"Other / Non-Disclosed\", :]"
   ]
  },
  {
   "cell_type": "code",
   "execution_count": null,
   "metadata": {},
   "outputs": [],
   "source": [
    "male_purchase = len(male_data[\"Purchase ID\"])\n",
    "female_purchase = len(female_data[\"Purchase ID\"])\n",
    "non_purchase = len(non_data[\"Purchase ID\"])"
   ]
  },
  {
   "cell_type": "code",
   "execution_count": null,
   "metadata": {},
   "outputs": [],
   "source": [
    "male_average = male_data[\"Price\"].mean()\n",
    "female_average = female_data[\"Price\"].mean()\n",
    "non_average = non_data[\"Price\"].mean()\n",
    "male_total = male_data[\"Price\"].sum()\n",
    "female_total = female_data[\"Price\"].sum()\n",
    "non_total = non_data[\"Price\"].sum()"
   ]
  },
  {
   "cell_type": "code",
   "execution_count": null,
   "metadata": {},
   "outputs": [],
   "source": [
    "avg_total_male = male_total/total_count_male\n",
    "avg_total_female = female_total/total_count_female\n",
    "avg_total_non = non_total/total_count_non"
   ]
  },
  {
   "cell_type": "code",
   "execution_count": null,
   "metadata": {},
   "outputs": [],
   "source": [
    "Purchasing_Analysis = pd.DataFrame( { \"Gender\" : [\"Male\", \"Female\", \"Other / Non-Disclosed\"],\n",
    "                                      \"Purchase Count\": [ male_purchase, female_purchase, non_purchase],\n",
    "                                      \"Average Purchase Price\" : [male_average, female_average, non_average],\n",
    "                                      \"Total Purchase Value\" : [male_total, female_total, non_total],\n",
    "                                      \"Avg Total Purchase per Person\" : [avg_total_male,avg_total_female,avg_total_non],\n",
    "})"
   ]
  },
  {
   "cell_type": "code",
   "execution_count": null,
   "metadata": {},
   "outputs": [],
   "source": [
    "formatted_analysis =Purchasing_Analysis.style.format({\n",
    "    \"Average Purchase Price\": \"${:.2f}\".format,\n",
    "    \"Total Purchase Value\": \"${:.2f}\".format,\n",
    "    \"Avg Total Purchase per Person\": \"${:.2f}\".format,\n",
    "})\n",
    "formatted_analysis"
   ]
  },
  {
   "cell_type": "markdown",
   "metadata": {},
   "source": [
    "## Age Demographics"
   ]
  },
  {
   "cell_type": "markdown",
   "metadata": {},
   "source": [
    "* Establish bins for ages\n",
    "\n",
    "\n",
    "* Categorize the existing players using the age bins. Hint: use pd.cut()\n",
    "\n",
    "\n",
    "* Calculate the numbers and percentages by age group\n",
    "\n",
    "\n",
    "* Create a summary data frame to hold the results\n",
    "\n",
    "\n",
    "* Optional: round the percentage column to two decimal points\n",
    "\n",
    "\n",
    "* Display Age Demographics Table\n"
   ]
  },
  {
   "cell_type": "code",
   "execution_count": null,
   "metadata": {},
   "outputs": [],
   "source": [
    "bins = [-1, 9 , 14, 19, 24,29, 34, 39, 50]# Create bins \n",
    "\n",
    "group_names = [\"<10\", \"10-14\", \"15-19\", \"20-24\", \"25-29\", \"30-34\", \"35-39\", \"40+\"]# Create labels for these bins"
   ]
  },
  {
   "cell_type": "code",
   "execution_count": null,
   "metadata": {},
   "outputs": [],
   "source": [
    "purchase_data[\"Age Bins\"] = pd.cut(purchase_data[\"Age\"], bins, labels=group_names)\n",
    "purchase_data.head()# Slice the data and place it into bins"
   ]
  },
  {
   "cell_type": "code",
   "execution_count": null,
   "metadata": {},
   "outputs": [],
   "source": [
    "gender_grouped = purchase_data.groupby(\"Age Bins\")\n",
    "Purchase_Count = gender_grouped[\"Purchase ID\"].count()\n",
    "# Place the data series into a new column inside of the DataFrame"
   ]
  },
  {
   "cell_type": "code",
   "execution_count": null,
   "metadata": {},
   "outputs": [],
   "source": [
    "Total_Purchase_Value = gender_grouped[\"Price\"].sum()\n"
   ]
  },
  {
   "cell_type": "code",
   "execution_count": null,
   "metadata": {},
   "outputs": [],
   "source": [
    "Average_Purchase_Price = Total_Purchase_Value/Purchase_Count\n"
   ]
  },
  {
   "cell_type": "code",
   "execution_count": null,
   "metadata": {},
   "outputs": [],
   "source": [
    "uniqueID_per_group = gender_grouped[\"SN\"].nunique()\n"
   ]
  },
  {
   "cell_type": "code",
   "execution_count": null,
   "metadata": {},
   "outputs": [],
   "source": [
    "Avg_Total_Purchase_per_Person = Total_Purchase_Value/uniqueID_per_group\n"
   ]
  },
  {
   "cell_type": "code",
   "execution_count": null,
   "metadata": {},
   "outputs": [],
   "source": [
    "Age_Purchasing = pd.DataFrame( {\"Purchase Count\": Purchase_Count,\n",
    "                                \"Average Purchase Price\" : Average_Purchase_Price,\n",
    "                                \"Total Purchase Value\" : Total_Purchase_Value,\n",
    "                                \"Avg Total Purchase per Person\" : Avg_Total_Purchase_per_Person,\n",
    "})\n"
   ]
  },
  {
   "cell_type": "code",
   "execution_count": null,
   "metadata": {},
   "outputs": [],
   "source": [
    "Age_Purchasing =Age_Purchasing.style.format({\n",
    "    \"Average Purchase Price\": \"${:.2f}\".format,\n",
    "    \"Total Purchase Value\": \"${:.2f}\".format,\n",
    "    \"Avg Total Purchase per Person\": \"${:.2f}\".format,\n",
    "    \n",
    "})\n",
    "Age_Purchasing"
   ]
  },
  {
   "cell_type": "markdown",
   "metadata": {},
   "source": [
    "## Purchasing Analysis (Age)"
   ]
  },
  {
   "cell_type": "markdown",
   "metadata": {},
   "source": [
    "* Bin the purchase_data data frame by age\n",
    "\n",
    "\n",
    "* Run basic calculations to obtain purchase count, avg. purchase price, avg. purchase total per person etc. in the table below\n",
    "\n",
    "\n",
    "* Create a summary data frame to hold the results\n",
    "\n",
    "\n",
    "* Optional: give the displayed data cleaner formatting\n",
    "\n",
    "\n",
    "* Display the summary data frame"
   ]
  },
  {
   "cell_type": "markdown",
   "metadata": {},
   "source": [
    "## Top Spenders"
   ]
  },
  {
   "cell_type": "markdown",
   "metadata": {},
   "source": [
    "* Run basic calculations to obtain the results in the table below\n",
    "\n",
    "\n",
    "* Create a summary data frame to hold the results\n",
    "\n",
    "\n",
    "* Sort the total purchase value column in descending order\n",
    "\n",
    "\n",
    "* Optional: give the displayed data cleaner formatting\n",
    "\n",
    "\n",
    "* Display a preview of the summary data frame\n",
    "\n"
   ]
  },
  {
   "cell_type": "code",
   "execution_count": null,
   "metadata": {},
   "outputs": [],
   "source": [
    "SN = purchase_data.groupby(\"SN\")\n",
    "Purchase_Count_SN = SN[\"Purchase ID\"].count()\n",
    "Total_Purchase_Value_SN = SN[\"Price\"].sum()\n",
    "Average_Purchase_Price_SN = Total_Purchase_Value_SN/ Purchase_Count_SN"
   ]
  },
  {
   "cell_type": "code",
   "execution_count": null,
   "metadata": {},
   "outputs": [],
   "source": [
    "Top_Spenders = pd.DataFrame( {\"Purchase Count\": Purchase_Count_SN,\n",
    "                                \"Average Purchase Price\" : Average_Purchase_Price_SN,\n",
    "                                \"Total Purchase Value\" : Total_Purchase_Value_SN,                               \n",
    "})"
   ]
  },
  {
   "cell_type": "code",
   "execution_count": null,
   "metadata": {},
   "outputs": [],
   "source": [
    "Spender_sorted = Top_Spenders.sort_values(by= \"Total Purchase Value\",ascending= False)\n"
   ]
  },
  {
   "cell_type": "code",
   "execution_count": null,
   "metadata": {},
   "outputs": [],
   "source": [
    "sorted_formatted = Spender_sorted.style.format({\n",
    "    \"Average Purchase Price\": \"${:.2f}\".format,\n",
    "    \"Total Purchase Value\": \"${:.2f}\".format,\n",
    "    \n",
    "})\n",
    "sorted_formatted"
   ]
  },
  {
   "cell_type": "markdown",
   "metadata": {},
   "source": [
    "## Most Popular Items"
   ]
  },
  {
   "cell_type": "markdown",
   "metadata": {
    "jupyter": {
     "source_hidden": true
    }
   },
   "source": [
    "* Retrieve the Item ID, Item Name, and Item Price columns\n",
    "\n",
    "\n",
    "* Group by Item ID and Item Name. Perform calculations to obtain purchase count, item price, and total purchase value\n",
    "\n",
    "\n",
    "* Create a summary data frame to hold the results\n",
    "\n",
    "\n",
    "* Sort the purchase count column in descending order\n",
    "\n",
    "\n",
    "* Optional: give the displayed data cleaner formatting\n",
    "\n",
    "\n",
    "* Display a preview of the summary data frame\n",
    "\n"
   ]
  },
  {
   "cell_type": "code",
   "execution_count": null,
   "metadata": {},
   "outputs": [],
   "source": [
    "Item_data = purchase_data.copy()"
   ]
  },
  {
   "cell_type": "code",
   "execution_count": null,
   "metadata": {},
   "outputs": [],
   "source": [
    "items_count_df = pd.DataFrame(Item_data.groupby([\"Item ID\",\"Item Name\"]).count())\n",
    "\n",
    "items_sum_df = pd.DataFrame(Item_data.groupby([\"Item ID\",\"Item Name\"]).sum())"
   ]
  },
  {
   "cell_type": "code",
   "execution_count": null,
   "metadata": {},
   "outputs": [],
   "source": [
    "items_count_df[\"Purchase Count\"] = items_count_df[\"SN\"]\n",
    "items_count_df[\"Item Price\"] = round(items_sum_df[\"Price\"]/items_count_df[\"SN\"],2)\n",
    "items_count_df[\"Total Purchase Value\"] = items_sum_df[\"Price\"]\n"
   ]
  },
  {
   "cell_type": "code",
   "execution_count": null,
   "metadata": {},
   "outputs": [],
   "source": [
    "popular_items_df = items_count_df.drop(labels = [\"Age\",\"Purchase ID\",\"Gender\",\"Price\",\"SN\"],axis = 1)"
   ]
  },
  {
   "cell_type": "code",
   "execution_count": null,
   "metadata": {},
   "outputs": [],
   "source": [
    "item_sorted = popular_items_df.sort_values(by= \"Purchase Count\",ascending= False)\n",
    "\n",
    "item_sorted.head()"
   ]
  },
  {
   "cell_type": "code",
   "execution_count": null,
   "metadata": {},
   "outputs": [],
   "source": [
    "item_formatted = item_sorted.style.format({\n",
    "    \"Item Price\": \"${:.2f}\".format,\n",
    "    \"Total Purchase Value\": \"${:.2f}\".format,\n",
    "    \n",
    "})\n",
    "item_formatted"
   ]
  },
  {
   "cell_type": "markdown",
   "metadata": {},
   "source": [
    "## Most Profitable Items"
   ]
  },
  {
   "cell_type": "markdown",
   "metadata": {},
   "source": [
    "* Sort the above table by total purchase value in descending order\n",
    "\n",
    "\n",
    "* Optional: give the displayed data cleaner formatting\n",
    "\n",
    "\n",
    "* Display a preview of the data frame\n",
    "\n"
   ]
  },
  {
   "cell_type": "code",
   "execution_count": null,
   "metadata": {},
   "outputs": [],
   "source": [
    "total_item_sorted = popular_items_df.sort_values(by= \"Total Purchase Value\",ascending= False)\n",
    "total_item_sorted.head()"
   ]
  },
  {
   "cell_type": "code",
   "execution_count": null,
   "metadata": {},
   "outputs": [],
   "source": [
    "total_item_sorted = total_item_sorted.style.format({\n",
    "    \"Item Price\": \"${:.2f}\".format,\n",
    "    \"Total Purchase Value\": \"${:.2f}\".format,\n",
    "    \n",
    "})\n",
    "total_item_sorted"
   ]
  }
 ],
 "metadata": {
  "anaconda-cloud": {},
  "kernel_info": {
   "name": "python3"
  },
  "kernelspec": {
   "display_name": "Python 3",
   "language": "python",
   "name": "python3"
  },
  "language_info": {
   "codemirror_mode": {
    "name": "ipython",
    "version": 3
   },
   "file_extension": ".py",
   "mimetype": "text/x-python",
   "name": "python",
   "nbconvert_exporter": "python",
   "pygments_lexer": "ipython3",
   "version": "3.7.4"
  },
  "latex_envs": {
   "LaTeX_envs_menu_present": true,
   "autoclose": false,
   "autocomplete": true,
   "bibliofile": "biblio.bib",
   "cite_by": "apalike",
   "current_citInitial": 1,
   "eqLabelWithNumbers": true,
   "eqNumInitial": 1,
   "hotkeys": {
    "equation": "Ctrl-E",
    "itemize": "Ctrl-I"
   },
   "labels_anchors": false,
   "latex_user_defs": false,
   "report_style_numbering": false,
   "user_envs_cfg": false
  },
  "nteract": {
   "version": "0.2.0"
  }
 },
 "nbformat": 4,
 "nbformat_minor": 4
}
